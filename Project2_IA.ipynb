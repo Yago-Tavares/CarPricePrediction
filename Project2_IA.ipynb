{
 "cells": [
  {
   "cell_type": "markdown",
   "metadata": {},
   "source": [
    "## Importanto a biblioteca e o data frame\n"
   ]
  },
  {
   "cell_type": "code",
   "execution_count": 10,
   "metadata": {},
   "outputs": [],
   "source": [
    "import pandas as pd\n",
    "from sklearn.model_selection import train_test_split\n",
    "from sklearn import tree\n",
    "\n",
    "df = pd.read_csv('true_car_listings.csv');"
   ]
  },
  {
   "cell_type": "markdown",
   "metadata": {},
   "source": [
    "## Excluindo colunas desnecessárias"
   ]
  },
  {
   "cell_type": "code",
   "execution_count": 11,
   "metadata": {},
   "outputs": [],
   "source": [
    "df = df.drop('Vin', axis=1)"
   ]
  },
  {
   "cell_type": "markdown",
   "metadata": {},
   "source": [
    "## Separar os preços dos carros dos dados que serão usados para a predição\n",
    "\n",
    "### x = dados\n",
    "### y = preços"
   ]
  },
  {
   "cell_type": "code",
   "execution_count": 12,
   "metadata": {},
   "outputs": [],
   "source": [
    "X = df.drop('Price', axis=1)\n",
    "y = df['Price']"
   ]
  },
  {
   "cell_type": "markdown",
   "metadata": {},
   "source": [
    "## Separar os dados de testes (20%) e de treinamento (80%)"
   ]
  },
  {
   "cell_type": "code",
   "execution_count": 16,
   "metadata": {},
   "outputs": [
    {
     "name": "stdout",
     "output_type": "stream",
     "text": [
      "        Year  Mileage        City State       Make          Model\n",
      "92442   2016    17895     Atlanta    GA  Chevrolet        CruzeLT\n",
      "323754  2002    99777  Scottsdale    AZ       Ford       Focus5dr\n",
      "462275  2014    20040  Wilmington    NC    Hyundai  TucsonLimited\n",
      "23189   2015    28797  Costa Mesa    CA       Audi         A73.0T\n",
      "433095  2016    46992   Lafayette    IN    Hyundai      ElantraSE\n",
      "Preços\n",
      "92442     13499\n",
      "323754     4999\n",
      "462275    20450\n",
      "23189     47885\n",
      "433095    10900\n",
      "Name: Price, dtype: int64\n"
     ]
    }
   ],
   "source": [
    "X_train, X_test, y_train, y_test = train_test_split(X, y, test_size=0.20, random_state=1)\n",
    "\n",
    "\n",
    "print(X_train.head())\n",
    "\n",
    "print('Preços')\n",
    "print(y_train.head())\n"
   ]
  },
  {
   "cell_type": "markdown",
   "metadata": {},
   "source": [
    "## Modelo para criar árvore (ainda não entendi)"
   ]
  },
  {
   "cell_type": "code",
   "execution_count": null,
   "metadata": {},
   "outputs": [],
   "source": []
  }
 ],
 "metadata": {
  "kernelspec": {
   "display_name": "Python 2",
   "language": "python",
   "name": "python2"
  },
  "language_info": {
   "codemirror_mode": {
    "name": "ipython",
    "version": 2
   },
   "file_extension": ".py",
   "mimetype": "text/x-python",
   "name": "python",
   "nbconvert_exporter": "python",
   "pygments_lexer": "ipython2",
   "version": "2.7.15"
  }
 },
 "nbformat": 4,
 "nbformat_minor": 2
}
